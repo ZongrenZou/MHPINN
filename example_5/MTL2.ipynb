{
 "cells": [
  {
   "cell_type": "code",
   "execution_count": 1,
   "id": "4ab70654",
   "metadata": {},
   "outputs": [],
   "source": [
    "import os\n",
    "\n",
    "os.environ[\"CUDA_VISIBLE_DEVICES\"] = \"-1\"\n",
    "\n",
    "import tensorflow as tf\n",
    "import numpy as np\n",
    "import matplotlib.pyplot as plt\n",
    "import scipy.io as sio\n",
    "import time\n",
    "\n",
    "import models"
   ]
  },
  {
   "cell_type": "code",
   "execution_count": 2,
   "id": "4ebcceb6",
   "metadata": {},
   "outputs": [],
   "source": [
    "# load the data. It may take a while\n",
    "data = sio.loadmat(\"./data/data_120_10000.mat\")"
   ]
  },
  {
   "cell_type": "code",
   "execution_count": 3,
   "id": "9fb6c4d7",
   "metadata": {},
   "outputs": [],
   "source": [
    "lamb = data[\"lamb\"]\n",
    "sols = data[\"sols\"]\n",
    "fs = data[\"fs\"]\n",
    "xx = data[\"xx\"]\n",
    "yy = data[\"yy\"]\n",
    "xi = data[\"xi\"]\n",
    "\n",
    "N = 10000\n",
    "u_ref = sols[:N, ...]\n",
    "f_ref = fs[:N, ...]\n",
    "x_train = xx[::2, ::2].reshape([-1, 1])\n",
    "y_train = yy[::2, ::2].reshape([-1, 1])\n",
    "f_train = f_ref[:, ::2, ::2].reshape([N, -1])\n",
    "f_train = f_train.T"
   ]
  },
  {
   "cell_type": "code",
   "execution_count": null,
   "id": "54db78a5",
   "metadata": {},
   "outputs": [],
   "source": [
    "mhpinn = models.MHPINN(\n",
    "    num_tasks=N, dim=100, name=\"mhpinn2\",\n",
    ")"
   ]
  },
  {
   "cell_type": "code",
   "execution_count": 5,
   "id": "639572d0",
   "metadata": {
    "scrolled": true
   },
   "outputs": [
    {
     "name": "stdout",
     "output_type": "stream",
     "text": [
      "0 0.0740705 , time:  4.205596208572388\n",
      "1000 0.022103164 , time:  676.4040007591248\n"
     ]
    },
    {
     "name": "stderr",
     "output_type": "stream",
     "text": [
      "ERROR:root:Internal Python error in the inspect module.\n",
      "Below is the traceback from this internal error.\n",
      "\n"
     ]
    },
    {
     "name": "stdout",
     "output_type": "stream",
     "text": [
      "Traceback (most recent call last):\n",
      "  File \"C:\\Users\\zouzo\\anaconda3\\envs\\tf2\\lib\\site-packages\\IPython\\core\\interactiveshell.py\", line 3553, in run_code\n",
      "    exec(code_obj, self.user_global_ns, self.user_ns)\n",
      "  File \"C:\\Users\\zouzo\\AppData\\Local\\Temp\\ipykernel_18328\\1205372947.py\", line 2, in <module>\n",
      "    loss = mhpinn.train(x_train, y_train, f_train, niter=50000, ftol=1e-6)\n",
      "  File \"C:\\Users\\zouzo\\Desktop\\MHPINN\\example_6_2\\case_1_v2\\models.py\", line 83, in train\n",
      "    loss_value = train_op(x_train, y_train, f_train)\n",
      "  File \"C:\\Users\\zouzo\\anaconda3\\envs\\tf2\\lib\\site-packages\\tensorflow\\python\\util\\traceback_utils.py\", line 150, in error_handler\n",
      "    return fn(*args, **kwargs)\n",
      "  File \"C:\\Users\\zouzo\\anaconda3\\envs\\tf2\\lib\\site-packages\\tensorflow\\python\\eager\\def_function.py\", line 915, in __call__\n",
      "    result = self._call(*args, **kwds)\n",
      "  File \"C:\\Users\\zouzo\\anaconda3\\envs\\tf2\\lib\\site-packages\\tensorflow\\python\\eager\\def_function.py\", line 947, in _call\n",
      "    return self._stateless_fn(*args, **kwds)  # pylint: disable=not-callable\n",
      "  File \"C:\\Users\\zouzo\\anaconda3\\envs\\tf2\\lib\\site-packages\\tensorflow\\python\\eager\\function.py\", line 2454, in __call__\n",
      "    filtered_flat_args, captured_inputs=graph_function.captured_inputs)  # pylint: disable=protected-access\n",
      "  File \"C:\\Users\\zouzo\\anaconda3\\envs\\tf2\\lib\\site-packages\\tensorflow\\python\\eager\\function.py\", line 1861, in _call_flat\n",
      "    ctx, args, cancellation_manager=cancellation_manager))\n",
      "  File \"C:\\Users\\zouzo\\anaconda3\\envs\\tf2\\lib\\site-packages\\tensorflow\\python\\eager\\function.py\", line 502, in call\n",
      "    ctx=ctx)\n",
      "  File \"C:\\Users\\zouzo\\anaconda3\\envs\\tf2\\lib\\site-packages\\tensorflow\\python\\eager\\execute.py\", line 55, in quick_execute\n",
      "    inputs, attrs, num_outputs)\n",
      "KeyboardInterrupt\n",
      "\n",
      "During handling of the above exception, another exception occurred:\n",
      "\n",
      "Traceback (most recent call last):\n",
      "  File \"C:\\Users\\zouzo\\anaconda3\\envs\\tf2\\lib\\site-packages\\IPython\\core\\interactiveshell.py\", line 2099, in showtraceback\n",
      "    stb = value._render_traceback_()\n",
      "AttributeError: 'KeyboardInterrupt' object has no attribute '_render_traceback_'\n",
      "\n",
      "During handling of the above exception, another exception occurred:\n",
      "\n",
      "Traceback (most recent call last):\n",
      "  File \"C:\\Users\\zouzo\\anaconda3\\envs\\tf2\\lib\\site-packages\\IPython\\core\\ultratb.py\", line 1101, in get_records\n",
      "    return _fixed_getinnerframes(etb, number_of_lines_of_context, tb_offset)\n",
      "  File \"C:\\Users\\zouzo\\anaconda3\\envs\\tf2\\lib\\site-packages\\IPython\\core\\ultratb.py\", line 248, in wrapped\n",
      "    return f(*args, **kwargs)\n",
      "  File \"C:\\Users\\zouzo\\anaconda3\\envs\\tf2\\lib\\site-packages\\IPython\\core\\ultratb.py\", line 281, in _fixed_getinnerframes\n",
      "    records = fix_frame_records_filenames(inspect.getinnerframes(etb, context))\n",
      "  File \"C:\\Users\\zouzo\\anaconda3\\envs\\tf2\\lib\\inspect.py\", line 1495, in getinnerframes\n",
      "    frameinfo = (tb.tb_frame,) + getframeinfo(tb, context)\n",
      "  File \"C:\\Users\\zouzo\\anaconda3\\envs\\tf2\\lib\\inspect.py\", line 1457, in getframeinfo\n",
      "    lines, lnum = findsource(frame)\n",
      "  File \"C:\\Users\\zouzo\\anaconda3\\envs\\tf2\\lib\\site-packages\\IPython\\core\\ultratb.py\", line 170, in findsource\n",
      "    file = getsourcefile(object) or getfile(object)\n",
      "  File \"C:\\Users\\zouzo\\anaconda3\\envs\\tf2\\lib\\inspect.py\", line 696, in getsourcefile\n",
      "    if getattr(getmodule(object, filename), '__loader__', None) is not None:\n",
      "  File \"C:\\Users\\zouzo\\anaconda3\\envs\\tf2\\lib\\inspect.py\", line 732, in getmodule\n",
      "    for modname, module in list(sys.modules.items()):\n",
      "KeyboardInterrupt\n"
     ]
    },
    {
     "name": "stderr",
     "output_type": "stream",
     "text": [
      "\n",
      "KeyboardInterrupt\n",
      "\n"
     ]
    }
   ],
   "source": [
    "t0 = time.time()\n",
    "loss = mhpinn.train(x_train, y_train, f_train, niter=50000, ftol=1e-6)\n",
    "t1 = time.time()"
   ]
  },
  {
   "cell_type": "code",
   "execution_count": 7,
   "id": "59b0ef64",
   "metadata": {},
   "outputs": [],
   "source": [
    "mhpinn.restore()\n",
    "xx = data[\"xx\"].reshape([-1, 1])\n",
    "yy = data[\"yy\"].reshape([-1, 1])\n",
    "xx_test = tf.constant(xx, tf.float32)\n",
    "yy_test = tf.constant(yy, tf.float32)\n",
    "u_pred = mhpinn.call(xx_test, yy_test, mhpinn.heads).numpy()\n",
    "u_pred = u_pred.reshape([101, 101, N])\n",
    "u_pred = np.transpose(u_pred, [2, 0, 1])\n",
    "\n",
    "f_pred = mhpinn.pde(xx_test, yy_test, mhpinn.heads).numpy()\n",
    "f_pred = f_pred.reshape([101, 101, N])\n",
    "f_pred = np.transpose(f_pred, [2, 0, 1])"
   ]
  },
  {
   "cell_type": "code",
   "execution_count": 8,
   "id": "181fca5b",
   "metadata": {},
   "outputs": [],
   "source": [
    "L2 = np.sqrt(np.sum(np.sum((u_ref - u_pred)**2, axis=-1), axis=-1) / np.sum(np.sum(u_ref**2, axis=-1), axis=-1))"
   ]
  },
  {
   "cell_type": "code",
   "execution_count": 9,
   "id": "c1bc6686",
   "metadata": {},
   "outputs": [
    {
     "data": {
      "text/plain": [
       "(0.028285414066786096, 0.006672750864576338)"
      ]
     },
     "execution_count": 9,
     "metadata": {},
     "output_type": "execute_result"
    }
   ],
   "source": [
    "np.mean(L2), np.std(L2)"
   ]
  },
  {
   "cell_type": "code",
   "execution_count": 12,
   "id": "c1359703",
   "metadata": {},
   "outputs": [
    {
     "data": {
      "text/plain": [
       "(0.020970933649045242, 0.012005247635838845)"
      ]
     },
     "execution_count": 12,
     "metadata": {},
     "output_type": "execute_result"
    }
   ],
   "source": [
    "np.mean(L2), np.std(L2)"
   ]
  },
  {
   "cell_type": "code",
   "execution_count": 12,
   "id": "d55f9de0",
   "metadata": {},
   "outputs": [
    {
     "data": {
      "text/plain": [
       "[<matplotlib.lines.Line2D at 0x2456f4de860>]"
      ]
     },
     "execution_count": 12,
     "metadata": {},
     "output_type": "execute_result"
    },
    {
     "data": {
      "image/png": "[encoded data removed]",
      "text/plain": [
       "<Figure size 640x480 with 1 Axes>"
      ]
     },
     "metadata": {},
     "output_type": "display_data"
    }
   ],
   "source": [
    "k = 30\n",
    "j = 45\n",
    "plt.plot(u_ref[k, :, j])\n",
    "plt.plot(u_pred[k, :, j])"
   ]
  },
  {
   "cell_type": "markdown",
   "id": "09f48d81",
   "metadata": {},
   "source": [
    "#### Training"
   ]
  },
  {
   "cell_type": "code",
   "execution_count": null,
   "id": "d295e703",
   "metadata": {},
   "outputs": [
    {
     "name": "stdout",
     "output_type": "stream",
     "text": [
      "0 0.00041057245 , time:  0.4253392219543457\n",
      "1000 0.0003972619 , time:  46.97417855262756\n",
      "2000 0.0004072902 , time:  46.805591344833374\n",
      "3000 0.00037679114 , time:  46.608054399490356\n",
      "4000 0.00037312508 , time:  46.87186813354492\n",
      "5000 0.00038321075 , time:  46.50478553771973\n",
      "6000 0.0003741197 , time:  46.8447380065918\n",
      "7000 0.00036768604 , time:  46.35226583480835\n",
      "8000 0.0003613669 , time:  46.28135323524475\n",
      "9000 0.00037765582 , time:  46.82025933265686\n",
      "10000 0.00036266915 , time:  46.749337911605835\n",
      "11000 0.0003496921 , time:  46.51775884628296\n",
      "12000 0.00034777354 , time:  47.21921372413635\n",
      "13000 0.00035100832 , time:  46.28081393241882\n",
      "14000 0.00040153036 , time:  46.368913412094116\n",
      "15000 0.00036689188 , time:  46.609062910079956\n",
      "16000 0.0003351327 , time:  46.7080717086792\n",
      "17000 0.00036048103 , time:  46.467071533203125\n",
      "18000 0.0003347958 , time:  46.66883993148804\n",
      "19000 0.000347742 , time:  46.250826835632324\n",
      "20000 0.0003373649 , time:  46.51789903640747\n",
      "21000 0.0003344114 , time:  46.395813941955566\n",
      "22000 0.000330792 , time:  46.823862075805664\n",
      "23000 0.00032859895 , time:  46.38675498962402\n",
      "24000 0.0003293341 , time:  46.48598384857178\n",
      "25000 0.00036971882 , time:  46.66569662094116\n",
      "26000 0.00032468775 , time:  46.8274040222168\n",
      "27000 0.00040491574 , time:  47.05018401145935\n",
      "28000 0.0003065575 , time:  46.581894636154175\n"
     ]
    }
   ],
   "source": [
    "t0 = time.time()\n",
    "loss = mhpinn.train(x_train, y_train, f_train, niter=50000, ftol=1e-6)\n",
    "t1 = time.time()"
   ]
  },
  {
   "cell_type": "code",
   "execution_count": null,
   "id": "4a4c9f1b",
   "metadata": {},
   "outputs": [],
   "source": []
  }
 ],
 "metadata": {
  "kernelspec": {
   "display_name": "Python 3 (ipykernel)",
   "language": "python",
   "name": "python3"
  },
  "language_info": {
   "codemirror_mode": {
    "name": "ipython",
    "version": 3
   },
   "file_extension": ".py",
   "mimetype": "text/x-python",
   "name": "python",
   "nbconvert_exporter": "python",
   "pygments_lexer": "ipython3",
   "version": "3.7.0"
  }
 },
 "nbformat": 4,
 "nbformat_minor": 5
}
