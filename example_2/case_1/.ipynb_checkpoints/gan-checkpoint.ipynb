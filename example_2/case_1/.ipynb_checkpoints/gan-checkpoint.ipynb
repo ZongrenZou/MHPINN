{
 "cells": [
  {
   "cell_type": "code",
   "execution_count": 1,
   "id": "7b74d153",
   "metadata": {},
   "outputs": [],
   "source": [
    "import tensorflow.compat.v1 as tf\n",
    "\n",
    "tf.disable_eager_execution()\n",
    "\n",
    "import numpy as np\n",
    "import matplotlib.pyplot as plt\n",
    "import time\n",
    "\n",
    "import data\n",
    "import net"
   ]
  },
  {
   "cell_type": "code",
   "execution_count": 2,
   "id": "174ff121",
   "metadata": {},
   "outputs": [],
   "source": [
    "z_dim = 50\n",
    "x_num = 65\n",
    "D_dim = x_num\n",
    "layers_gen_z = [50, 128, 128, 50]\n",
    "layers_gen_x = [1, 50, 50, 50]\n",
    "layers_dis = [65, 128, 128, 128, 1]\n",
    "batch_size = 100\n",
    "\n",
    "dataset = data.DataSet(N=2000, batch_size=batch_size)"
   ]
  },
  {
   "cell_type": "code",
   "execution_count": 4,
   "id": "234d5d3c",
   "metadata": {},
   "outputs": [],
   "source": [
    "sess = tf.Session()\n",
    "t_train, f_train = dataset.minibatch()\n",
    "\n",
    "t_pos = tf.constant(t_train, dtype=tf.float32) #[x_num, x_dim]\n",
    "z_tol = tf.tile(tf.random_normal(shape=[batch_size, 1, z_dim], dtype=tf.float32), [1, 2*65, 1])\n",
    "z = z_tol[:, :x_num, :]\n",
    "z_res = z_tol[:, x_num:, :]\n",
    "t = tf.tile(t_pos[None, :, :], [batch_size, 1, 1])"
   ]
  },
  {
   "cell_type": "code",
   "execution_count": 6,
   "id": "708db1b9",
   "metadata": {},
   "outputs": [],
   "source": [
    "f_real = tf.placeholder(shape=[None, D_dim], dtype=tf.float32)\n",
    "model = net.DNN()\n",
    "W_g_z, b_g_z = model.hyper_initial(layers_gen_z)\n",
    "W_g_x, b_g_x = model.hyper_initial(layers_gen_x)\n",
    "\n",
    "u_fake_z = model.fnn(z, W_g_z, b_g_z, act=tf.tanh)\n",
    "u_fake_z = model.fnn(z, W_g_z, b_g_z, act=tf.tanh) \n",
    "u_fake_x = model.fnn(t, W_g_x, b_g_x, act=tf.tanh)\n",
    "u_fake = u_fake_x*u_fake_z\n",
    "u_fake = tf.reduce_sum(u_fake, axis=-1, keepdims=True)\n",
    "u_fake = t**2 * u_fake\n",
    "f_fake = model.pdenn(t, u_fake)[:, :, 0]\n",
    "\n",
    "W_d, b_d = model.hyper_initial(layers_dis)\n",
    "    \n",
    "dis_fake = model.fnn(f_fake, W_d, b_d, act=tf.nn.leaky_relu)\n",
    "dis_real = model.fnn(f_real, W_d, b_d, act=tf.nn.leaky_relu)\n",
    "\n",
    "var_list_gen = [W_g_z, b_g_z, W_g_x, b_g_x]\n",
    "var_list_dis = [W_d, b_d]"
   ]
  },
  {
   "cell_type": "code",
   "execution_count": 7,
   "id": "9b9e291f",
   "metadata": {},
   "outputs": [],
   "source": [
    "gen_loss = tf.reduce_mean(dis_real - dis_fake)\n",
    "dis_loss = - gen_loss\n",
    "\n",
    "beta = 0.1\n",
    "alpha = tf.random_uniform(shape=[batch_size, 1], minval=0.0, maxval=1.0)\n",
    "interpolates = alpha*f_real + ((1.0-alpha)*f_fake)\n",
    "disc_interpolates = model.fnn(interpolates, W_d, b_d, act=tf.nn.leaky_relu)\n",
    "gradients = tf.gradients(disc_interpolates, [interpolates])[0]\n",
    "\n",
    "slopes = tf.norm(gradients, axis=1)\n",
    "gradient_penalty = tf.reduce_mean((slopes-1.0)**2)\n",
    "\n",
    "dis_loss += beta*gradient_penalty"
   ]
  },
  {
   "cell_type": "code",
   "execution_count": 8,
   "id": "f9b75faa",
   "metadata": {},
   "outputs": [],
   "source": [
    "dis_train = tf.train.AdamOptimizer(learning_rate=1.0e-4, beta1=0.5, beta2=0.9).minimize(dis_loss, var_list=var_list_dis)\n",
    "gen_train = tf.train.AdamOptimizer(learning_rate=1.0e-4, beta1=0.5, beta2=0.9).minimize(gen_loss, var_list=var_list_gen)\n",
    "\n",
    "saver_g = tf.train.Saver([weight for weight in W_g_z+b_g_z+W_g_x+b_g_x], max_to_keep=200)\n",
    "saver_d = tf.train.Saver([weight for weight in W_d+b_d])"
   ]
  },
  {
   "cell_type": "code",
   "execution_count": 9,
   "id": "f61f04ab",
   "metadata": {},
   "outputs": [],
   "source": [
    "sess.run(tf.global_variables_initializer())"
   ]
  },
  {
   "cell_type": "code",
   "execution_count": 10,
   "id": "6f4cffbd",
   "metadata": {
    "scrolled": true
   },
   "outputs": [
    {
     "name": "stdout",
     "output_type": "stream",
     "text": [
      "Step: 0, Gen_loss: -6.329e-01, Dis_loss: 8.853e-01\n",
      "Elapsed:  0.3394184112548828\n",
      "INFO:tensorflow:./checkpoints\\prior_0.data-00000-of-00001\n",
      "INFO:tensorflow:100\n",
      "INFO:tensorflow:./checkpoints\\prior_0.index\n",
      "INFO:tensorflow:100\n",
      "INFO:tensorflow:./checkpoints\\prior_0.meta\n",
      "INFO:tensorflow:600\n",
      "Step: 100, Gen_loss: -4.463e+01, Dis_loss: 5.915e+01\n",
      "Elapsed:  10.858323574066162\n",
      "Step: 200, Gen_loss: -6.129e+01, Dis_loss: 1.129e+02\n",
      "Elapsed:  10.794559240341187\n",
      "Step: 300, Gen_loss: -5.509e+01, Dis_loss: 1.094e+02\n",
      "Elapsed:  10.726539850234985\n",
      "Step: 400, Gen_loss: -6.429e+01, Dis_loss: 1.141e+02\n",
      "Elapsed:  10.943851947784424\n",
      "Step: 500, Gen_loss: -5.691e+01, Dis_loss: 1.153e+02\n",
      "Elapsed:  10.841407775878906\n"
     ]
    },
    {
     "ename": "KeyboardInterrupt",
     "evalue": "",
     "output_type": "error",
     "traceback": [
      "\u001b[1;31m---------------------------------------------------------------------------\u001b[0m",
      "\u001b[1;31mKeyboardInterrupt\u001b[0m                         Traceback (most recent call last)",
      "\u001b[1;32m~\\AppData\\Local\\Temp\\ipykernel_1004\\1821360207.py\u001b[0m in \u001b[0;36m<module>\u001b[1;34m\u001b[0m\n\u001b[0;32m     11\u001b[0m     \u001b[0mt_train\u001b[0m\u001b[1;33m,\u001b[0m \u001b[0mf_train\u001b[0m \u001b[1;33m=\u001b[0m \u001b[0mdataset\u001b[0m\u001b[1;33m.\u001b[0m\u001b[0mminibatch\u001b[0m\u001b[1;33m(\u001b[0m\u001b[1;33m)\u001b[0m\u001b[1;33m\u001b[0m\u001b[0m\n\u001b[0;32m     12\u001b[0m     \u001b[0mgen_dict\u001b[0m \u001b[1;33m=\u001b[0m \u001b[1;33m{\u001b[0m\u001b[0mf_real\u001b[0m\u001b[1;33m:\u001b[0m \u001b[0mf_train\u001b[0m\u001b[1;33m.\u001b[0m\u001b[0mT\u001b[0m\u001b[1;33m}\u001b[0m\u001b[1;33m\u001b[0m\u001b[0m\n\u001b[1;32m---> 13\u001b[1;33m     \u001b[0mgen_loss_\u001b[0m\u001b[1;33m,\u001b[0m \u001b[0mgen_train_\u001b[0m \u001b[1;33m=\u001b[0m \u001b[0msess\u001b[0m\u001b[1;33m.\u001b[0m\u001b[0mrun\u001b[0m\u001b[1;33m(\u001b[0m\u001b[1;33m[\u001b[0m\u001b[0mgen_loss\u001b[0m\u001b[1;33m,\u001b[0m \u001b[0mgen_train\u001b[0m\u001b[1;33m]\u001b[0m\u001b[1;33m,\u001b[0m \u001b[0mfeed_dict\u001b[0m\u001b[1;33m=\u001b[0m\u001b[0mgen_dict\u001b[0m\u001b[1;33m)\u001b[0m\u001b[1;33m\u001b[0m\u001b[0m\n\u001b[0m\u001b[0;32m     14\u001b[0m \u001b[1;33m\u001b[0m\u001b[0m\n\u001b[0;32m     15\u001b[0m     \u001b[1;32mif\u001b[0m \u001b[0mn\u001b[0m\u001b[1;33m%\u001b[0m\u001b[1;36m100\u001b[0m \u001b[1;33m==\u001b[0m \u001b[1;36m0\u001b[0m\u001b[1;33m:\u001b[0m\u001b[1;33m\u001b[0m\u001b[0m\n",
      "\u001b[1;32m~\\anaconda3\\envs\\tf2\\lib\\site-packages\\tensorflow\\python\\client\\session.py\u001b[0m in \u001b[0;36mrun\u001b[1;34m(self, fetches, feed_dict, options, run_metadata)\u001b[0m\n\u001b[0;32m    966\u001b[0m     \u001b[1;32mtry\u001b[0m\u001b[1;33m:\u001b[0m\u001b[1;33m\u001b[0m\u001b[0m\n\u001b[0;32m    967\u001b[0m       result = self._run(None, fetches, feed_dict, options_ptr,\n\u001b[1;32m--> 968\u001b[1;33m                          run_metadata_ptr)\n\u001b[0m\u001b[0;32m    969\u001b[0m       \u001b[1;32mif\u001b[0m \u001b[0mrun_metadata\u001b[0m\u001b[1;33m:\u001b[0m\u001b[1;33m\u001b[0m\u001b[0m\n\u001b[0;32m    970\u001b[0m         \u001b[0mproto_data\u001b[0m \u001b[1;33m=\u001b[0m \u001b[0mtf_session\u001b[0m\u001b[1;33m.\u001b[0m\u001b[0mTF_GetBuffer\u001b[0m\u001b[1;33m(\u001b[0m\u001b[0mrun_metadata_ptr\u001b[0m\u001b[1;33m)\u001b[0m\u001b[1;33m\u001b[0m\u001b[0m\n",
      "\u001b[1;32m~\\anaconda3\\envs\\tf2\\lib\\site-packages\\tensorflow\\python\\client\\session.py\u001b[0m in \u001b[0;36m_run\u001b[1;34m(self, handle, fetches, feed_dict, options, run_metadata)\u001b[0m\n\u001b[0;32m   1189\u001b[0m     \u001b[1;32mif\u001b[0m \u001b[0mfinal_fetches\u001b[0m \u001b[1;32mor\u001b[0m \u001b[0mfinal_targets\u001b[0m \u001b[1;32mor\u001b[0m \u001b[1;33m(\u001b[0m\u001b[0mhandle\u001b[0m \u001b[1;32mand\u001b[0m \u001b[0mfeed_dict_tensor\u001b[0m\u001b[1;33m)\u001b[0m\u001b[1;33m:\u001b[0m\u001b[1;33m\u001b[0m\u001b[0m\n\u001b[0;32m   1190\u001b[0m       results = self._do_run(handle, final_targets, final_fetches,\n\u001b[1;32m-> 1191\u001b[1;33m                              feed_dict_tensor, options, run_metadata)\n\u001b[0m\u001b[0;32m   1192\u001b[0m     \u001b[1;32melse\u001b[0m\u001b[1;33m:\u001b[0m\u001b[1;33m\u001b[0m\u001b[0m\n\u001b[0;32m   1193\u001b[0m       \u001b[0mresults\u001b[0m \u001b[1;33m=\u001b[0m \u001b[1;33m[\u001b[0m\u001b[1;33m]\u001b[0m\u001b[1;33m\u001b[0m\u001b[0m\n",
      "\u001b[1;32m~\\anaconda3\\envs\\tf2\\lib\\site-packages\\tensorflow\\python\\client\\session.py\u001b[0m in \u001b[0;36m_do_run\u001b[1;34m(self, handle, target_list, fetch_list, feed_dict, options, run_metadata)\u001b[0m\n\u001b[0;32m   1369\u001b[0m     \u001b[1;32mif\u001b[0m \u001b[0mhandle\u001b[0m \u001b[1;32mis\u001b[0m \u001b[1;32mNone\u001b[0m\u001b[1;33m:\u001b[0m\u001b[1;33m\u001b[0m\u001b[0m\n\u001b[0;32m   1370\u001b[0m       return self._do_call(_run_fn, feeds, fetches, targets, options,\n\u001b[1;32m-> 1371\u001b[1;33m                            run_metadata)\n\u001b[0m\u001b[0;32m   1372\u001b[0m     \u001b[1;32melse\u001b[0m\u001b[1;33m:\u001b[0m\u001b[1;33m\u001b[0m\u001b[0m\n\u001b[0;32m   1373\u001b[0m       \u001b[1;32mreturn\u001b[0m \u001b[0mself\u001b[0m\u001b[1;33m.\u001b[0m\u001b[0m_do_call\u001b[0m\u001b[1;33m(\u001b[0m\u001b[0m_prun_fn\u001b[0m\u001b[1;33m,\u001b[0m \u001b[0mhandle\u001b[0m\u001b[1;33m,\u001b[0m \u001b[0mfeeds\u001b[0m\u001b[1;33m,\u001b[0m \u001b[0mfetches\u001b[0m\u001b[1;33m)\u001b[0m\u001b[1;33m\u001b[0m\u001b[0m\n",
      "\u001b[1;32m~\\anaconda3\\envs\\tf2\\lib\\site-packages\\tensorflow\\python\\client\\session.py\u001b[0m in \u001b[0;36m_do_call\u001b[1;34m(self, fn, *args)\u001b[0m\n\u001b[0;32m   1375\u001b[0m   \u001b[1;32mdef\u001b[0m \u001b[0m_do_call\u001b[0m\u001b[1;33m(\u001b[0m\u001b[0mself\u001b[0m\u001b[1;33m,\u001b[0m \u001b[0mfn\u001b[0m\u001b[1;33m,\u001b[0m \u001b[1;33m*\u001b[0m\u001b[0margs\u001b[0m\u001b[1;33m)\u001b[0m\u001b[1;33m:\u001b[0m\u001b[1;33m\u001b[0m\u001b[0m\n\u001b[0;32m   1376\u001b[0m     \u001b[1;32mtry\u001b[0m\u001b[1;33m:\u001b[0m\u001b[1;33m\u001b[0m\u001b[0m\n\u001b[1;32m-> 1377\u001b[1;33m       \u001b[1;32mreturn\u001b[0m \u001b[0mfn\u001b[0m\u001b[1;33m(\u001b[0m\u001b[1;33m*\u001b[0m\u001b[0margs\u001b[0m\u001b[1;33m)\u001b[0m\u001b[1;33m\u001b[0m\u001b[0m\n\u001b[0m\u001b[0;32m   1378\u001b[0m     \u001b[1;32mexcept\u001b[0m \u001b[0merrors\u001b[0m\u001b[1;33m.\u001b[0m\u001b[0mOpError\u001b[0m \u001b[1;32mas\u001b[0m \u001b[0me\u001b[0m\u001b[1;33m:\u001b[0m\u001b[1;33m\u001b[0m\u001b[0m\n\u001b[0;32m   1379\u001b[0m       \u001b[0mmessage\u001b[0m \u001b[1;33m=\u001b[0m \u001b[0mcompat\u001b[0m\u001b[1;33m.\u001b[0m\u001b[0mas_text\u001b[0m\u001b[1;33m(\u001b[0m\u001b[0me\u001b[0m\u001b[1;33m.\u001b[0m\u001b[0mmessage\u001b[0m\u001b[1;33m)\u001b[0m\u001b[1;33m\u001b[0m\u001b[0m\n",
      "\u001b[1;32m~\\anaconda3\\envs\\tf2\\lib\\site-packages\\tensorflow\\python\\client\\session.py\u001b[0m in \u001b[0;36m_run_fn\u001b[1;34m(feed_dict, fetch_list, target_list, options, run_metadata)\u001b[0m\n\u001b[0;32m   1359\u001b[0m       \u001b[0mself\u001b[0m\u001b[1;33m.\u001b[0m\u001b[0m_extend_graph\u001b[0m\u001b[1;33m(\u001b[0m\u001b[1;33m)\u001b[0m\u001b[1;33m\u001b[0m\u001b[0m\n\u001b[0;32m   1360\u001b[0m       return self._call_tf_sessionrun(options, feed_dict, fetch_list,\n\u001b[1;32m-> 1361\u001b[1;33m                                       target_list, run_metadata)\n\u001b[0m\u001b[0;32m   1362\u001b[0m \u001b[1;33m\u001b[0m\u001b[0m\n\u001b[0;32m   1363\u001b[0m     \u001b[1;32mdef\u001b[0m \u001b[0m_prun_fn\u001b[0m\u001b[1;33m(\u001b[0m\u001b[0mhandle\u001b[0m\u001b[1;33m,\u001b[0m \u001b[0mfeed_dict\u001b[0m\u001b[1;33m,\u001b[0m \u001b[0mfetch_list\u001b[0m\u001b[1;33m)\u001b[0m\u001b[1;33m:\u001b[0m\u001b[1;33m\u001b[0m\u001b[0m\n",
      "\u001b[1;32m~\\anaconda3\\envs\\tf2\\lib\\site-packages\\tensorflow\\python\\client\\session.py\u001b[0m in \u001b[0;36m_call_tf_sessionrun\u001b[1;34m(self, options, feed_dict, fetch_list, target_list, run_metadata)\u001b[0m\n\u001b[0;32m   1453\u001b[0m     return tf_session.TF_SessionRun_wrapper(self._session, options, feed_dict,\n\u001b[0;32m   1454\u001b[0m                                             \u001b[0mfetch_list\u001b[0m\u001b[1;33m,\u001b[0m \u001b[0mtarget_list\u001b[0m\u001b[1;33m,\u001b[0m\u001b[1;33m\u001b[0m\u001b[0m\n\u001b[1;32m-> 1455\u001b[1;33m                                             run_metadata)\n\u001b[0m\u001b[0;32m   1456\u001b[0m \u001b[1;33m\u001b[0m\u001b[0m\n\u001b[0;32m   1457\u001b[0m   \u001b[1;32mdef\u001b[0m \u001b[0m_call_tf_sessionprun\u001b[0m\u001b[1;33m(\u001b[0m\u001b[0mself\u001b[0m\u001b[1;33m,\u001b[0m \u001b[0mhandle\u001b[0m\u001b[1;33m,\u001b[0m \u001b[0mfeed_dict\u001b[0m\u001b[1;33m,\u001b[0m \u001b[0mfetch_list\u001b[0m\u001b[1;33m)\u001b[0m\u001b[1;33m:\u001b[0m\u001b[1;33m\u001b[0m\u001b[0m\n",
      "\u001b[1;31mKeyboardInterrupt\u001b[0m: "
     ]
    }
   ],
   "source": [
    "n = 0\n",
    "nmax = 50000\n",
    "critic = 5\n",
    "t0 = time.time()\n",
    "while n <= nmax:\n",
    "    for i in range(critic):\n",
    "        t_train, f_train = dataset.minibatch()\n",
    "        dis_dict = {f_real: f_train.T}\n",
    "        dis_loss_, dis_train_ = sess.run([dis_loss, dis_train], feed_dict=dis_dict)\n",
    "\n",
    "    t_train, f_train = dataset.minibatch()\n",
    "    gen_dict = {f_real: f_train.T}\n",
    "    gen_loss_, gen_train_ = sess.run([gen_loss, gen_train], feed_dict=gen_dict)\n",
    "\n",
    "    if n%100 == 0:\n",
    "        print('Step: %d, Gen_loss: %.3e, Dis_loss: %.3e'%(n, dis_loss_, gen_loss_))\n",
    "        t1 = time.time()\n",
    "        print(\"Elapsed: \", t1 - t0)\n",
    "        t0 = time.time()\n",
    "\n",
    "    if n%10000 == 0:\n",
    "        filename = './checkpoints/prior_' + str(n)\n",
    "        saver_g.save(sess, filename)\n",
    "    n += 1\n",
    "print(\"Elapsed: \", time.time() - t0)\n",
    "saver_g.save(sess, './checkpoints/prior')\n",
    "saver_d.save(sess, './checkpoints/Dis')"
   ]
  },
  {
   "cell_type": "code",
   "execution_count": null,
   "id": "bf4ae06c",
   "metadata": {},
   "outputs": [],
   "source": [
    "t1 = time.time()"
   ]
  },
  {
   "cell_type": "code",
   "execution_count": null,
   "id": "ae9c7d26",
   "metadata": {},
   "outputs": [],
   "source": [
    "print(t1 - t0)"
   ]
  },
  {
   "cell_type": "code",
   "execution_count": null,
   "id": "02ea7ebc",
   "metadata": {},
   "outputs": [],
   "source": []
  },
  {
   "cell_type": "code",
   "execution_count": null,
   "id": "72d05f6a",
   "metadata": {},
   "outputs": [],
   "source": []
  },
  {
   "cell_type": "code",
   "execution_count": null,
   "id": "11711bf2",
   "metadata": {},
   "outputs": [],
   "source": []
  },
  {
   "cell_type": "code",
   "execution_count": null,
   "id": "29a304ee",
   "metadata": {},
   "outputs": [],
   "source": []
  },
  {
   "cell_type": "code",
   "execution_count": 20,
   "id": "9ddfd263",
   "metadata": {},
   "outputs": [
    {
     "data": {
      "text/plain": [
       "TensorShape([100, 65, 10])"
      ]
     },
     "execution_count": 20,
     "metadata": {},
     "output_type": "execute_result"
    }
   ],
   "source": [
    "z.shape"
   ]
  },
  {
   "cell_type": "code",
   "execution_count": null,
   "id": "70362a07",
   "metadata": {},
   "outputs": [],
   "source": []
  },
  {
   "cell_type": "code",
   "execution_count": 11,
   "id": "f9be6eb0",
   "metadata": {},
   "outputs": [
    {
     "ename": "NameError",
     "evalue": "name 't_train' is not defined",
     "output_type": "error",
     "traceback": [
      "\u001b[1;31m---------------------------------------------------------------------------\u001b[0m",
      "\u001b[1;31mNameError\u001b[0m                                 Traceback (most recent call last)",
      "\u001b[1;32m~\\AppData\\Local\\Temp\\ipykernel_6288\\1509323709.py\u001b[0m in \u001b[0;36m<module>\u001b[1;34m\u001b[0m\n\u001b[1;32m----> 1\u001b[1;33m \u001b[0mt_train\u001b[0m\u001b[1;33m.\u001b[0m\u001b[0mshape\u001b[0m\u001b[1;33m\u001b[0m\u001b[0m\n\u001b[0m",
      "\u001b[1;31mNameError\u001b[0m: name 't_train' is not defined"
     ]
    }
   ],
   "source": [
    "t_train.shape"
   ]
  },
  {
   "cell_type": "code",
   "execution_count": 5,
   "id": "98098077",
   "metadata": {},
   "outputs": [],
   "source": [
    "t, f = data.minibatch()"
   ]
  },
  {
   "cell_type": "code",
   "execution_count": 6,
   "id": "aeaaf464",
   "metadata": {},
   "outputs": [
    {
     "data": {
      "text/plain": [
       "(65, 1)"
      ]
     },
     "execution_count": 6,
     "metadata": {},
     "output_type": "execute_result"
    }
   ],
   "source": [
    "t.shape"
   ]
  },
  {
   "cell_type": "code",
   "execution_count": 7,
   "id": "6c0efb1f",
   "metadata": {},
   "outputs": [
    {
     "data": {
      "text/plain": [
       "(65, 100)"
      ]
     },
     "execution_count": 7,
     "metadata": {},
     "output_type": "execute_result"
    }
   ],
   "source": [
    "f.shape"
   ]
  },
  {
   "cell_type": "code",
   "execution_count": null,
   "id": "203218e8",
   "metadata": {},
   "outputs": [],
   "source": []
  },
  {
   "cell_type": "code",
   "execution_count": 10,
   "id": "f870414c",
   "metadata": {},
   "outputs": [],
   "source": [
    "import scipy.io as sio"
   ]
  },
  {
   "cell_type": "code",
   "execution_count": 11,
   "id": "03e7b95d",
   "metadata": {},
   "outputs": [],
   "source": [
    "data = sio.loadmat(\"./Data/data_10.mat\")"
   ]
  },
  {
   "cell_type": "code",
   "execution_count": 16,
   "id": "2a2343b0",
   "metadata": {},
   "outputs": [
    {
     "data": {
      "text/plain": [
       "(65, 2000)"
      ]
     },
     "execution_count": 16,
     "metadata": {},
     "output_type": "execute_result"
    }
   ],
   "source": [
    "data[\"f\"][::4, :2000].shape"
   ]
  },
  {
   "cell_type": "code",
   "execution_count": 17,
   "id": "0e40673d",
   "metadata": {},
   "outputs": [
    {
     "data": {
      "text/plain": [
       "(257, 1)"
      ]
     },
     "execution_count": 17,
     "metadata": {},
     "output_type": "execute_result"
    }
   ],
   "source": [
    "data[\"t\"].shape"
   ]
  },
  {
   "cell_type": "code",
   "execution_count": 14,
   "id": "0ea10ee2",
   "metadata": {},
   "outputs": [
    {
     "data": {
      "text/plain": [
       "(257, 2, 10000)"
      ]
     },
     "execution_count": 14,
     "metadata": {},
     "output_type": "execute_result"
    }
   ],
   "source": [
    "data[\"sols\"].shape"
   ]
  },
  {
   "cell_type": "code",
   "execution_count": 4,
   "id": "222e0199",
   "metadata": {},
   "outputs": [],
   "source": [
    "x_dim = 1\n",
    "x_num = 40  \n",
    "x_bc_num = 2\n",
    "z_dim = 40\n",
    "G_dim = 40\n",
    "D_dim = x_num\n",
    "layers_gen_z = [z_dim] + [64]*2 + [G_dim]\n",
    "layers_gen_x = [x_dim] + [64]*2 + [G_dim]\n",
    "layers_dis = [D_dim] + [128]*3 + [1]\n",
    "\n",
    "batch_size = 128"
   ]
  },
  {
   "cell_type": "code",
   "execution_count": 5,
   "id": "67ef8bcc",
   "metadata": {},
   "outputs": [],
   "source": [
    "data = DataSet(x_num, batch_size)"
   ]
  },
  {
   "cell_type": "code",
   "execution_count": 6,
   "id": "075dee72",
   "metadata": {},
   "outputs": [],
   "source": [
    "x_u_train, u_train, x_train, f_train = data.minibatch()"
   ]
  },
  {
   "cell_type": "code",
   "execution_count": 7,
   "id": "36a112e7",
   "metadata": {},
   "outputs": [
    {
     "data": {
      "text/plain": [
       "(2, 1)"
      ]
     },
     "execution_count": 7,
     "metadata": {},
     "output_type": "execute_result"
    }
   ],
   "source": [
    "x_u_train.shape"
   ]
  },
  {
   "cell_type": "code",
   "execution_count": 8,
   "id": "ca1bc1cd",
   "metadata": {},
   "outputs": [
    {
     "data": {
      "text/plain": [
       "array([[0., 0.],\n",
       "       [0., 0.],\n",
       "       [0., 0.],\n",
       "       [0., 0.],\n",
       "       [0., 0.],\n",
       "       [0., 0.],\n",
       "       [0., 0.],\n",
       "       [0., 0.],\n",
       "       [0., 0.],\n",
       "       [0., 0.],\n",
       "       [0., 0.],\n",
       "       [0., 0.],\n",
       "       [0., 0.],\n",
       "       [0., 0.],\n",
       "       [0., 0.],\n",
       "       [0., 0.],\n",
       "       [0., 0.],\n",
       "       [0., 0.],\n",
       "       [0., 0.],\n",
       "       [0., 0.],\n",
       "       [0., 0.],\n",
       "       [0., 0.],\n",
       "       [0., 0.],\n",
       "       [0., 0.],\n",
       "       [0., 0.],\n",
       "       [0., 0.],\n",
       "       [0., 0.],\n",
       "       [0., 0.],\n",
       "       [0., 0.],\n",
       "       [0., 0.],\n",
       "       [0., 0.],\n",
       "       [0., 0.],\n",
       "       [0., 0.],\n",
       "       [0., 0.],\n",
       "       [0., 0.],\n",
       "       [0., 0.],\n",
       "       [0., 0.],\n",
       "       [0., 0.],\n",
       "       [0., 0.],\n",
       "       [0., 0.],\n",
       "       [0., 0.],\n",
       "       [0., 0.],\n",
       "       [0., 0.],\n",
       "       [0., 0.],\n",
       "       [0., 0.],\n",
       "       [0., 0.],\n",
       "       [0., 0.],\n",
       "       [0., 0.],\n",
       "       [0., 0.],\n",
       "       [0., 0.],\n",
       "       [0., 0.],\n",
       "       [0., 0.],\n",
       "       [0., 0.],\n",
       "       [0., 0.],\n",
       "       [0., 0.],\n",
       "       [0., 0.],\n",
       "       [0., 0.],\n",
       "       [0., 0.],\n",
       "       [0., 0.],\n",
       "       [0., 0.],\n",
       "       [0., 0.],\n",
       "       [0., 0.],\n",
       "       [0., 0.],\n",
       "       [0., 0.],\n",
       "       [0., 0.],\n",
       "       [0., 0.],\n",
       "       [0., 0.],\n",
       "       [0., 0.],\n",
       "       [0., 0.],\n",
       "       [0., 0.],\n",
       "       [0., 0.],\n",
       "       [0., 0.],\n",
       "       [0., 0.],\n",
       "       [0., 0.],\n",
       "       [0., 0.],\n",
       "       [0., 0.],\n",
       "       [0., 0.],\n",
       "       [0., 0.],\n",
       "       [0., 0.],\n",
       "       [0., 0.],\n",
       "       [0., 0.],\n",
       "       [0., 0.],\n",
       "       [0., 0.],\n",
       "       [0., 0.],\n",
       "       [0., 0.],\n",
       "       [0., 0.],\n",
       "       [0., 0.],\n",
       "       [0., 0.],\n",
       "       [0., 0.],\n",
       "       [0., 0.],\n",
       "       [0., 0.],\n",
       "       [0., 0.],\n",
       "       [0., 0.],\n",
       "       [0., 0.],\n",
       "       [0., 0.],\n",
       "       [0., 0.],\n",
       "       [0., 0.],\n",
       "       [0., 0.],\n",
       "       [0., 0.],\n",
       "       [0., 0.],\n",
       "       [0., 0.],\n",
       "       [0., 0.],\n",
       "       [0., 0.],\n",
       "       [0., 0.],\n",
       "       [0., 0.],\n",
       "       [0., 0.],\n",
       "       [0., 0.],\n",
       "       [0., 0.],\n",
       "       [0., 0.],\n",
       "       [0., 0.],\n",
       "       [0., 0.],\n",
       "       [0., 0.],\n",
       "       [0., 0.],\n",
       "       [0., 0.],\n",
       "       [0., 0.],\n",
       "       [0., 0.],\n",
       "       [0., 0.],\n",
       "       [0., 0.],\n",
       "       [0., 0.],\n",
       "       [0., 0.],\n",
       "       [0., 0.],\n",
       "       [0., 0.],\n",
       "       [0., 0.],\n",
       "       [0., 0.],\n",
       "       [0., 0.],\n",
       "       [0., 0.],\n",
       "       [0., 0.],\n",
       "       [0., 0.]])"
      ]
     },
     "execution_count": 8,
     "metadata": {},
     "output_type": "execute_result"
    }
   ],
   "source": [
    "u_train"
   ]
  },
  {
   "cell_type": "code",
   "execution_count": null,
   "id": "e76044df",
   "metadata": {},
   "outputs": [],
   "source": []
  }
 ],
 "metadata": {
  "kernelspec": {
   "display_name": "Python 3 (ipykernel)",
   "language": "python",
   "name": "python3"
  },
  "language_info": {
   "codemirror_mode": {
    "name": "ipython",
    "version": 3
   },
   "file_extension": ".py",
   "mimetype": "text/x-python",
   "name": "python",
   "nbconvert_exporter": "python",
   "pygments_lexer": "ipython3",
   "version": "3.7.0"
  }
 },
 "nbformat": 4,
 "nbformat_minor": 5
}
