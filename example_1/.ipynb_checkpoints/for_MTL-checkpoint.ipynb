{
 "cells": [
  {
   "cell_type": "code",
   "execution_count": 1,
   "id": "73db14dc",
   "metadata": {},
   "outputs": [],
   "source": [
    "import numpy as np\n",
    "import scipy.io as sio\n",
    "import matplotlib.pyplot as plt\n",
    "import tensorflow as tf\n",
    "import tensorflow_probability as tfp\n",
    "import time\n",
    "\n",
    "import models\n",
    "import flows"
   ]
  },
  {
   "cell_type": "code",
   "execution_count": 2,
   "id": "9903545f",
   "metadata": {},
   "outputs": [],
   "source": [
    "data = sio.loadmat(\"case3.mat\")\n",
    "x1 = data[\"x1\"]\n",
    "x2 = data[\"x2\"]\n",
    "y1 = data[\"y1\"]\n",
    "y2 = data[\"y2\"]\n",
    "w1 = data[\"w1\"]\n",
    "w2 = data[\"w2\"]\n",
    "A = data[\"A\"]\n",
    "k = data[\"k\"]\n",
    "\n",
    "x1_train = x1[0, :].reshape([-1, 1])\n",
    "y1_train = y1[:500].T\n",
    "x2_train = x2[0, :].reshape([-1, 1])\n",
    "y2_train = y2[:500].T\n",
    "w1_train = w1[:500]\n",
    "w2_train = w2[:500]\n",
    "A1_train = A[:500]\n",
    "A2_train = A[2000:2500]\n",
    "k1_train = k[:500]\n",
    "k2_train = k[2000:2500]"
   ]
  },
  {
   "cell_type": "code",
   "execution_count": 3,
   "id": "144a7a40",
   "metadata": {},
   "outputs": [],
   "source": [
    "meta = models.Meta(num_tasks=1000, dim=50, name=\"meta_MTL\")"
   ]
  },
  {
   "cell_type": "code",
   "execution_count": 9,
   "id": "98081bf7",
   "metadata": {},
   "outputs": [
    {
     "data": {
      "image/png": "[encoded data removed]",
      "text/plain": [
       "<Figure size 432x288 with 1 Axes>"
      ]
     },
     "metadata": {
      "needs_background": "light"
     },
     "output_type": "display_data"
    }
   ],
   "source": [
    "plt.hist(meta.heads.numpy().flatten(), bins=20, density=True)\n",
    "plt.show()"
   ]
  },
  {
   "cell_type": "code",
   "execution_count": null,
   "id": "7c2f7ac6",
   "metadata": {
    "scrolled": true
   },
   "outputs": [
    {
     "name": "stdout",
     "output_type": "stream",
     "text": [
      "0 9.847646 , time:  0.31999921798706055\n",
      "1000 3.140564 , time:  0.778059720993042\n",
      "2000 0.07286396 , time:  0.7930023670196533\n",
      "3000 0.035216216 , time:  0.7699952125549316\n",
      "4000 0.014829262 , time:  0.778998613357544\n",
      "5000 0.02046002 , time:  0.7879986763000488\n",
      "6000 0.006229631 , time:  0.7839999198913574\n",
      "7000 0.0045026727 , time:  0.8250019550323486\n",
      "8000 0.0030749768 , time:  0.8039984703063965\n",
      "9000 0.0022156062 , time:  0.8169963359832764\n",
      "10000 0.00173126 , time:  0.8089995384216309\n",
      "11000 0.001429212 , time:  0.8239974975585938\n",
      "12000 0.007335347 , time:  0.8479993343353271\n",
      "13000 0.0016376802 , time:  0.8039999008178711\n",
      "14000 0.0009249493 , time:  0.8280000686645508\n"
     ]
    }
   ],
   "source": [
    "loss = meta.train(\n",
    "    x1_train,\n",
    "    y1_train,\n",
    "    x2_train,\n",
    "    y2_train,\n",
    "    niter=50000,\n",
    "    ftol=1e-10,\n",
    ")"
   ]
  },
  {
   "cell_type": "code",
   "execution_count": null,
   "id": "7e828a35",
   "metadata": {},
   "outputs": [],
   "source": [
    "meta.restore()\n",
    "# loss[-1], min(loss)"
   ]
  },
  {
   "cell_type": "code",
   "execution_count": null,
   "id": "511f82c8",
   "metadata": {},
   "outputs": [],
   "source": [
    "x_test = np.linspace(-1, 1, 100).reshape([-1, 1])\n",
    "out1 = meta.call(\n",
    "    tf.constant(x_test, tf.float32), meta.heads[:, :500]\n",
    ")\n",
    "\n",
    "i = 3\n",
    "fig = plt.figure(dpi=100)\n",
    "ax = fig.add_subplot()\n",
    "ax.plot(\n",
    "    x_test, out1[:, i], color=\"black\", linestyle=\"-\", linewidth=4,\n",
    ")\n",
    "ax.plot(\n",
    "    x_test, \n",
    "    A1_train[i] * np.cos(w1_train[i] * x_test) + 2 * k1_train[i] * x_test, \n",
    "    color=\"green\", \n",
    "    linestyle=\"--\", \n",
    "    linewidth=4,\n",
    ")\n",
    "\n",
    "ax.scatter(x1_train, y1_train[:, i], s=5, color=\"blue\", marker=\"o\", facecolor=\"none\", linewidths=10)\n",
    "ax.set_box_aspect(1)\n",
    "\n",
    "x_test = np.linspace(-1, 1, 100).reshape([-1, 1])\n",
    "out2 = meta.call(\n",
    "    tf.constant(x_test, tf.float32), meta.heads[:, 500:]\n",
    ")\n",
    "\n",
    "i = 100\n",
    "fig = plt.figure(dpi=100)\n",
    "ax = fig.add_subplot()\n",
    "ax.plot(\n",
    "    x_test, out2[:, i], color=\"black\", linestyle=\"-\", linewidth=4,\n",
    ")\n",
    "ax.plot(\n",
    "    x_test, \n",
    "    A2_train[i] * np.cos(w2_train[i] * x_test) + 2 * k2_train[i] * x_test, \n",
    "    color=\"green\", \n",
    "    linestyle=\"--\", \n",
    "    linewidth=4,\n",
    ")\n",
    "\n",
    "ax.scatter(x2_train, y2_train[:, i], s=5, color=\"blue\", marker=\"o\", facecolor=\"none\", linewidths=10)\n",
    "ax.set_box_aspect(1)"
   ]
  },
  {
   "cell_type": "code",
   "execution_count": null,
   "id": "dd25b56c",
   "metadata": {},
   "outputs": [],
   "source": [
    "for i in range(500):\n",
    "    plt.plot(x1_train, y1_train[:, i])\n",
    "    \n",
    "for i in range(500):\n",
    "    plt.plot(x2_train, y2_train[:, i])"
   ]
  },
  {
   "cell_type": "code",
   "execution_count": null,
   "id": "109e01eb",
   "metadata": {},
   "outputs": [],
   "source": [
    "x_test = np.linspace(-1, 1, 100).reshape([-1, 1])\n",
    "x_test = tf.constant(x_test, tf.float32)\n",
    "basis = meta.shared_nn.call(x_test)"
   ]
  },
  {
   "cell_type": "code",
   "execution_count": null,
   "id": "a7a96499",
   "metadata": {},
   "outputs": [],
   "source": [
    "for i in range(50):\n",
    "    print(i)\n",
    "    plt.figure(dpi=30)\n",
    "    plt.plot(x_test, basis[:, i])\n",
    "    plt.show()"
   ]
  },
  {
   "cell_type": "code",
   "execution_count": null,
   "id": "6515d27f",
   "metadata": {},
   "outputs": [],
   "source": []
  }
 ],
 "metadata": {
  "kernelspec": {
   "display_name": "Python 3 (ipykernel)",
   "language": "python",
   "name": "python3"
  },
  "language_info": {
   "codemirror_mode": {
    "name": "ipython",
    "version": 3
   },
   "file_extension": ".py",
   "mimetype": "text/x-python",
   "name": "python",
   "nbconvert_exporter": "python",
   "pygments_lexer": "ipython3",
   "version": "3.7.0"
  }
 },
 "nbformat": 4,
 "nbformat_minor": 5
}
