{
 "cells": [
  {
   "cell_type": "code",
   "execution_count": 1,
   "id": "da024203",
   "metadata": {},
   "outputs": [],
   "source": [
    "import numpy as np\n",
    "import matplotlib.pyplot as plt\n",
    "\n",
    "import tensorflow as tf\n",
    "import scipy.io as sio\n",
    "\n",
    "import models"
   ]
  },
  {
   "cell_type": "markdown",
   "id": "61e65c44",
   "metadata": {},
   "source": [
    "#### Make data"
   ]
  },
  {
   "cell_type": "code",
   "execution_count": 6,
   "id": "ac7af0f0",
   "metadata": {},
   "outputs": [],
   "source": [
    "data = sio.loadmat(\"./data/data.mat\")\n",
    "xx = data[\"xx\"]\n",
    "yy = data[\"yy\"]\n",
    "x = data[\"x\"]\n",
    "y = data[\"y\"]\n",
    "f = data[\"f\"]\n",
    "u = data[\"u\"]\n",
    "\n",
    "x_test = x\n",
    "y_test = y\n",
    "xx_test, yy_test = np.meshgrid(x_test, y_test)\n",
    "N = 5000\n",
    "\n",
    "u_test = u[..., -1]\n",
    "f_test = f[..., -1]\n",
    "\n",
    "np.random.seed(7762)\n",
    "idx = np.random.choice(51*51, 51*51, replace=False)[:100]\n",
    "x_train = xx_test[::2, ::2].reshape([-1, 1])[idx]\n",
    "y_train = yy_test[::2, ::2].reshape([-1, 1])[idx]\n",
    "f_train = f_test[::2, ::2].reshape([-1, 1])[idx]\n",
    "\n",
    "f_train = f_train + 0.15 * np.random.normal(size=f_train.shape)"
   ]
  },
  {
   "cell_type": "code",
   "execution_count": 7,
   "id": "8172b1ce",
   "metadata": {},
   "outputs": [],
   "source": [
    "sio.savemat(\n",
    "    \"./data/downstream_hmc.mat\", \n",
    "    {\n",
    "        \"x_test\": x,\n",
    "        \"y_test\": y,\n",
    "        \"f_test\": f_test,\n",
    "        \"u_test\": u_test,\n",
    "        \"x_train\": x_train,\n",
    "        \"y_train\": y_train,\n",
    "        \"f_train\": f_train,\n",
    "        \"noise_scale\": 0.15,\n",
    "    }\n",
    ")"
   ]
  },
  {
   "cell_type": "code",
   "execution_count": 8,
   "id": "8becdd99",
   "metadata": {},
   "outputs": [
    {
     "name": "stdout",
     "output_type": "stream",
     "text": [
      "0.1523193\n"
     ]
    }
   ],
   "source": [
    "print(np.mean(np.abs(f)))"
   ]
  },
  {
   "cell_type": "code",
   "execution_count": null,
   "id": "53a2f542",
   "metadata": {},
   "outputs": [],
   "source": []
  }
 ],
 "metadata": {
  "kernelspec": {
   "display_name": "Python 3 (ipykernel)",
   "language": "python",
   "name": "python3"
  },
  "language_info": {
   "codemirror_mode": {
    "name": "ipython",
    "version": 3
   },
   "file_extension": ".py",
   "mimetype": "text/x-python",
   "name": "python",
   "nbconvert_exporter": "python",
   "pygments_lexer": "ipython3",
   "version": "3.7.0"
  }
 },
 "nbformat": 4,
 "nbformat_minor": 5
}
