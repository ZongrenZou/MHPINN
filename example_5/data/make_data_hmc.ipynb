{
 "cells": [
  {
   "cell_type": "code",
   "execution_count": 1,
   "id": "f2751bd8",
   "metadata": {},
   "outputs": [],
   "source": [
    "import numpy as np\n",
    "import scipy.io as sio\n",
    "import matplotlib.pyplot as plt"
   ]
  },
  {
   "cell_type": "markdown",
   "id": "b817f415",
   "metadata": {},
   "source": [
    "#### First in jupyter notebook"
   ]
  },
  {
   "cell_type": "code",
   "execution_count": 3,
   "id": "9e1783b4",
   "metadata": {},
   "outputs": [
    {
     "name": "stdout",
     "output_type": "stream",
     "text": [
      "0 1 2 3\n",
      "4 5 6 7\n",
      "8 9 10 11\n",
      "12 13 14 15\n",
      "16 17 18 19\n",
      "20 21 22 23\n",
      "24 25 26 27\n",
      "28 29 30 31\n",
      "32 33 34 35\n",
      "36 37 38 39\n",
      "40 41 42 43\n",
      "44 45 46 47\n",
      "48 49 50 51\n",
      "52 53 54 55\n",
      "56 57 58 59\n",
      "60 61 62 63\n",
      "64 65 66 67\n",
      "68 69 70 71\n",
      "72 73 74 75\n",
      "76 77 78 79\n",
      "80 81 82 83\n",
      "84 85 86 87\n",
      "88 89 90 91\n",
      "92 93 94 95\n",
      "96 97 98 99\n",
      "100 101 102 103\n",
      "104 105 106 107\n",
      "108 109 110 111\n",
      "112 113 114 115\n",
      "116 117 118 119\n"
     ]
    }
   ],
   "source": [
    "np.random.seed(9988)\n",
    "\n",
    "x = np.linspace(0, 2*np.pi, 101)\n",
    "y = np.linspace(0, 2*np.pi, 101)\n",
    "xx, yy = np.meshgrid(x, y)\n",
    "\n",
    "N = 1\n",
    "D = 30\n",
    "s = 4\n",
    "xi = -1 + 2 * np.random.uniform(size=[D*s])\n",
    "f = np.zeros([101, 101])\n",
    "\n",
    "for i in range(D):\n",
    "    print(s*i, s*i+1, s*i+2, s*i+3)\n",
    "    f += xi[s*i+0:s*i+1] * np.sin((i+1)*(xx-np.pi)/2/np.pi) * np.sin((i+1)*(yy-np.pi)/2/np.pi) + \\\n",
    "        + xi[s*i+1:s*i+2] * np.cos((i+1)*(xx-np.pi)/2/np.pi) * np.sin((i+1)*(yy-np.pi)/2/np.pi) + \\\n",
    "        + xi[s*i+2:s*i+3] * np.sin((i+1)*(xx-np.pi)/2/np.pi) * np.cos((i+1)*(yy-np.pi)/2/np.pi) + \\\n",
    "        + xi[s*i+3:s*i+4] * np.cos((i+1)*(xx-np.pi)/2/np.pi) * np.cos((i+1)*(yy-np.pi)/2/np.pi)\n",
    "\n",
    "f = 1/D * f \n",
    "\n",
    "sio.savemat(\n",
    "    \"downstream_f_hmc.mat\",\n",
    "    {\"f\":f,  \"x\": x, \"y\": y}\n",
    ")"
   ]
  },
  {
   "cell_type": "markdown",
   "id": "8cf9d639",
   "metadata": {},
   "source": [
    "#### Then go to Matlab, solve the equation with such $f$"
   ]
  },
  {
   "cell_type": "markdown",
   "id": "ef9fb7ee",
   "metadata": {},
   "source": [
    "#### After that, come back to jupyter notebook"
   ]
  },
  {
   "cell_type": "code",
   "execution_count": 4,
   "id": "e91e6fcb",
   "metadata": {},
   "outputs": [],
   "source": [
    "data = sio.loadmat(\"downstream.mat\")"
   ]
  },
  {
   "cell_type": "code",
   "execution_count": 5,
   "id": "b7e24ac3",
   "metadata": {},
   "outputs": [
    {
     "data": {
      "text/plain": [
       "dict_keys(['__header__', '__version__', '__globals__', 'f', 'lamb', 'sol', 'x', 'xx', 'y', 'yy'])"
      ]
     },
     "execution_count": 5,
     "metadata": {},
     "output_type": "execute_result"
    }
   ],
   "source": [
    "data.keys()"
   ]
  },
  {
   "cell_type": "code",
   "execution_count": 6,
   "id": "248de74a",
   "metadata": {},
   "outputs": [],
   "source": [
    "f = data[\"f\"]\n",
    "u_ref = data[\"sol\"]\n",
    "xx = data[\"xx\"]\n",
    "yy = data[\"yy\"]\n",
    "lamb = data[\"lamb\"]"
   ]
  },
  {
   "cell_type": "code",
   "execution_count": null,
   "id": "5770d3e4",
   "metadata": {},
   "outputs": [],
   "source": []
  },
  {
   "cell_type": "code",
   "execution_count": null,
   "id": "6b95fd02",
   "metadata": {},
   "outputs": [],
   "source": []
  },
  {
   "cell_type": "code",
   "execution_count": null,
   "id": "d0609abe",
   "metadata": {},
   "outputs": [],
   "source": []
  }
 ],
 "metadata": {
  "kernelspec": {
   "display_name": "Python 3 (ipykernel)",
   "language": "python",
   "name": "python3"
  },
  "language_info": {
   "codemirror_mode": {
    "name": "ipython",
    "version": 3
   },
   "file_extension": ".py",
   "mimetype": "text/x-python",
   "name": "python",
   "nbconvert_exporter": "python",
   "pygments_lexer": "ipython3",
   "version": "3.7.0"
  }
 },
 "nbformat": 4,
 "nbformat_minor": 5
}
