{
 "cells": [
  {
   "cell_type": "code",
   "execution_count": 1,
   "id": "ee601003",
   "metadata": {},
   "outputs": [],
   "source": [
    "import os\n",
    "\n",
    "os.environ[\"CUDA_VISIBLE_DEVICES\"] = \"-1\"\n",
    "\n",
    "import tensorflow as tf\n",
    "import numpy as np\n",
    "import scipy.io as sio\n",
    "import matplotlib.pyplot as plt\n",
    "\n",
    "import models\n",
    "import flows"
   ]
  },
  {
   "cell_type": "markdown",
   "id": "bd953574",
   "metadata": {},
   "source": [
    "#### Generate data"
   ]
  },
  {
   "cell_type": "code",
   "execution_count": 2,
   "id": "2f5af252",
   "metadata": {},
   "outputs": [],
   "source": [
    "data = sio.loadmat(\"./data/downstream.mat\")\n",
    "f_ref = data[\"f\"]\n",
    "u_ref = data[\"sol\"]\n",
    "xx = data[\"xx\"]\n",
    "yy = data[\"yy\"]\n",
    "lamb = data[\"lamb\"]\n",
    "\n",
    "x_train = xx[1::2, 1::2].reshape([-1, 1])\n",
    "y_train = yy[1::2, 1::2].reshape([-1, 1])\n",
    "f_train = f_ref[1::2, 1::2].reshape([-1, 1])\n",
    "\n",
    "idx = np.random.choice(x_train.shape[0], x_train.shape[0], replace=False)[:300]\n",
    "x_train = x_train[idx]\n",
    "y_train = y_train[idx]\n",
    "f_train = f_train[idx]\n",
    "\n",
    "noise_scale = 0.1\n",
    "f_train = f_train + noise_scale * np.random.normal(size=f_train.shape)\n",
    "\n",
    "\n",
    "sio.savemat(\n",
    "    \"downtream_train_more_data.mat\",\n",
    "    {\n",
    "        \"x_train\": x_train, \n",
    "        \"y_train\": y_train,\n",
    "        \"f_train\": f_train,\n",
    "        \"xx\": xx, \"yy\": yy,\n",
    "        \"u_ref\": u_ref, \"f_ref\": f_ref,\n",
    "        \"noise_scale\": noise_scale,\n",
    "    }\n",
    ")"
   ]
  },
  {
   "cell_type": "code",
   "execution_count": null,
   "id": "8005fc92",
   "metadata": {},
   "outputs": [],
   "source": [
    "f_ref.shape"
   ]
  },
  {
   "cell_type": "code",
   "execution_count": null,
   "id": "24e03b4f",
   "metadata": {},
   "outputs": [],
   "source": [
    "np.mean(np.abs(f_ref))"
   ]
  },
  {
   "cell_type": "code",
   "execution_count": null,
   "id": "7e7e9ae3",
   "metadata": {},
   "outputs": [],
   "source": [
    "xx.shape"
   ]
  },
  {
   "cell_type": "code",
   "execution_count": null,
   "id": "3a3d519f",
   "metadata": {},
   "outputs": [],
   "source": [
    "x_train.shape"
   ]
  },
  {
   "cell_type": "code",
   "execution_count": null,
   "id": "9762b18b",
   "metadata": {},
   "outputs": [],
   "source": []
  },
  {
   "cell_type": "code",
   "execution_count": null,
   "id": "25a2ccaa",
   "metadata": {},
   "outputs": [],
   "source": []
  }
 ],
 "metadata": {
  "kernelspec": {
   "display_name": "Python 3 (ipykernel)",
   "language": "python",
   "name": "python3"
  },
  "language_info": {
   "codemirror_mode": {
    "name": "ipython",
    "version": 3
   },
   "file_extension": ".py",
   "mimetype": "text/x-python",
   "name": "python",
   "nbconvert_exporter": "python",
   "pygments_lexer": "ipython3",
   "version": "3.7.0"
  }
 },
 "nbformat": 4,
 "nbformat_minor": 5
}
