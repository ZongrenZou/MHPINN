{
 "cells": [
  {
   "cell_type": "code",
   "execution_count": 1,
   "id": "d0105c5d",
   "metadata": {},
   "outputs": [],
   "source": [
    "import os\n",
    "\n",
    "os.environ[\"CUDA_VISIBLE_DEVICES\"] = \"-1\"\n",
    "\n",
    "import tensorflow.compat.v1 as tf\n",
    "\n",
    "tf.disable_eager_execution()\n",
    "\n",
    "import tensorflow_probability as tfp\n",
    "import numpy as np\n",
    "import matplotlib.pyplot as plt\n",
    "import time\n",
    "\n",
    "import data\n",
    "import net"
   ]
  },
  {
   "cell_type": "code",
   "execution_count": 2,
   "id": "22623a82",
   "metadata": {},
   "outputs": [
    {
     "name": "stdout",
     "output_type": "stream",
     "text": [
      "loading data from ./data/data_10.mat\n"
     ]
    }
   ],
   "source": [
    "z_dim = 50\n",
    "x_num = 65\n",
    "D_dim = x_num\n",
    "layers_gen_z = [50, 128, 128, 128, 50]\n",
    "layers_gen_x = [1, 50, 50, 50, 50]\n",
    "layers_dis = [65, 128, 128, 128, 1]\n",
    "batch_size = 100\n",
    "\n",
    "data = data.DataSet(N=2000, batch_size=batch_size)"
   ]
  },
  {
   "cell_type": "code",
   "execution_count": 3,
   "id": "dfb9cec2",
   "metadata": {},
   "outputs": [],
   "source": [
    "sess = tf.Session()\n",
    "t_train, f_train = data.minibatch()\n",
    "\n",
    "t_pos = tf.constant(t_train, dtype=tf.float32) #[x_num, x_dim]\n",
    "z = tf.tile(tf.random_normal(shape=[batch_size, 1, z_dim], dtype=tf.float32), [1, 65, 1])\n",
    "t = tf.tile(t_pos[None, :, :], [batch_size, 1, 1])"
   ]
  },
  {
   "cell_type": "code",
   "execution_count": 4,
   "id": "b07d68e7",
   "metadata": {},
   "outputs": [],
   "source": [
    "f_real = tf.placeholder(shape=[None, D_dim], dtype=tf.float32)\n",
    "model = net.DNN()\n",
    "W_g_z, b_g_z = model.hyper_initial(layers_gen_z)\n",
    "W_g_x, b_g_x = model.hyper_initial(layers_gen_x)\n",
    "\n",
    "u_fake_z = model.fnn(z, W_g_z, b_g_z, act=tf.tanh)\n",
    "u_fake_z = model.fnn(z, W_g_z, b_g_z, act=tf.tanh) \n",
    "u_fake_x = model.fnn(t, W_g_x, b_g_x, act=tf.tanh)\n",
    "u_fake = u_fake_x*u_fake_z\n",
    "u_fake = tf.reduce_sum(u_fake, axis=-1, keepdims=True)\n",
    "u_fake = t**2 * u_fake\n",
    "f_fake = model.pdenn(t, u_fake)[:, :, 0]\n",
    "\n",
    "W_d, b_d = model.hyper_initial(layers_dis)\n",
    "    \n",
    "dis_fake = model.fnn(f_fake, W_d, b_d, act=tf.nn.leaky_relu)\n",
    "dis_real = model.fnn(f_real, W_d, b_d, act=tf.nn.leaky_relu)\n",
    "\n",
    "var_list_gen = [W_g_z, b_g_z, W_g_x, b_g_x]\n",
    "var_list_dis = [W_d, b_d]"
   ]
  },
  {
   "cell_type": "code",
   "execution_count": 25,
   "id": "9e65acd1",
   "metadata": {},
   "outputs": [],
   "source": [
    "saver_g = tf.train.Saver([weight for weight in W_g_z+b_g_z+W_g_x+b_g_x], max_to_keep=200)\n",
    "saver_d = tf.train.Saver([weight for weight in W_d+b_d])\n",
    "\n",
    "sess.run(tf.global_variables_initializer())"
   ]
  },
  {
   "cell_type": "code",
   "execution_count": 26,
   "id": "cef3c728",
   "metadata": {},
   "outputs": [],
   "source": [
    "eigs_10 = []\n",
    "eigs_25 = []\n",
    "eigs_50 = []"
   ]
  },
  {
   "cell_type": "code",
   "execution_count": 167,
   "id": "8fe5b9b6",
   "metadata": {},
   "outputs": [
    {
     "name": "stdout",
     "output_type": "stream",
     "text": [
      "INFO:tensorflow:Restoring parameters from ./results_GAN/GAN_50/checkpoints/prior_9\n"
     ]
    }
   ],
   "source": [
    "saver_g.restore(sess, \"./results_GAN/GAN_50/checkpoints/prior_9\")"
   ]
  },
  {
   "cell_type": "code",
   "execution_count": 168,
   "id": "d5be06bd",
   "metadata": {},
   "outputs": [],
   "source": [
    "t_pos = tf.constant(data.t, dtype=tf.float32) #[x_num, x_dim]\n",
    "batch_size = 10000\n",
    "z = tf.tile(tf.random_normal(shape=[batch_size, 1, z_dim], dtype=tf.float32), [1, 257, 1])\n",
    "t = tf.tile(t_pos[None, :, :], [batch_size, 1, 1])\n",
    "\n",
    "u_fake_z = model.fnn(z, W_g_z, b_g_z, act=tf.tanh)\n",
    "u_fake_z = model.fnn(z, W_g_z, b_g_z, act=tf.tanh) \n",
    "u_fake_x = model.fnn(t, W_g_x, b_g_x, act=tf.tanh)\n",
    "u_fake = u_fake_x*u_fake_z\n",
    "u_fake = tf.reduce_sum(u_fake, axis=-1, keepdims=True)\n",
    "u_fake = t**2 * u_fake\n",
    "f_fake = model.pdenn(t, u_fake)[:, :, 0]\n",
    "\n",
    "f_pred = sess.run(f_fake)"
   ]
  },
  {
   "cell_type": "code",
   "execution_count": 169,
   "id": "3d288722",
   "metadata": {},
   "outputs": [
    {
     "name": "stdout",
     "output_type": "stream",
     "text": [
      "(257, 257)\n"
     ]
    }
   ],
   "source": [
    "# out_f = []\n",
    "# for i in range(20):\n",
    "#     out_f += [sess.run(f_fake)]\n",
    "# f_pred = np.concatenate(out_f, axis=0)\n",
    "\n",
    "\n",
    "# out_u = []\n",
    "# for i in range(20):\n",
    "#     out_u += [sess.run(u_fake)]\n",
    "# u_pred = np.concatenate(out_u, axis=0)\n",
    "K = tfp.stats.covariance(tf.transpose(f_pred.T)) / 256\n",
    "print(K.shape)\n",
    "K = sess.run(K)\n",
    "eigs = np.real(np.linalg.eigvals(K)).astype(np.float32)\n",
    "eigs = eigs[np.argsort(-eigs)]"
   ]
  },
  {
   "cell_type": "code",
   "execution_count": 170,
   "id": "7b8b0311",
   "metadata": {
    "scrolled": true
   },
   "outputs": [
    {
     "data": {
      "text/plain": [
       "10"
      ]
     },
     "execution_count": 170,
     "metadata": {},
     "output_type": "execute_result"
    }
   ],
   "source": [
    "# eigs_10 += [eigs]\n",
    "# eigs_25 += [eigs]\n",
    "eigs_50 += [eigs]\n",
    "len(eigs_50)"
   ]
  },
  {
   "cell_type": "code",
   "execution_count": 171,
   "id": "37ca6ce4",
   "metadata": {},
   "outputs": [],
   "source": [
    "# mu_10 = np.mean(np.stack(eigs_10), axis=0)\n",
    "# std_10 = np.std(np.stack(eigs_10), axis=0)\n",
    "# mu_25 = np.mean(np.stack(eigs_25), axis=0)\n",
    "# std_25 = np.std(np.stack(eigs_25), axis=0)\n",
    "mu_50 = np.mean(np.stack(eigs_50), axis=0)\n",
    "std_50 = np.std(np.stack(eigs_50), axis=0)"
   ]
  },
  {
   "cell_type": "code",
   "execution_count": 176,
   "id": "0f57bb88",
   "metadata": {},
   "outputs": [],
   "source": [
    "import scipy.io as sio\n",
    "sio.savemat(\n",
    "    \"GAN.mat\",\n",
    "    {\n",
    "        \"mu_10\": mu_10, \"mu_25\": mu_25, \"mu_50\": mu_50,\n",
    "        \"std_10\": std_10, \"std_25\": std_25, \"std_50\": std_50,\n",
    "    }\n",
    ")"
   ]
  },
  {
   "cell_type": "code",
   "execution_count": null,
   "id": "2a0a1111",
   "metadata": {},
   "outputs": [],
   "source": []
  },
  {
   "cell_type": "code",
   "execution_count": null,
   "id": "6be5852e",
   "metadata": {},
   "outputs": [],
   "source": []
  },
  {
   "cell_type": "code",
   "execution_count": null,
   "id": "4570149c",
   "metadata": {},
   "outputs": [],
   "source": []
  },
  {
   "cell_type": "code",
   "execution_count": null,
   "id": "4d0626da",
   "metadata": {},
   "outputs": [],
   "source": []
  },
  {
   "cell_type": "code",
   "execution_count": null,
   "id": "acd81149",
   "metadata": {},
   "outputs": [],
   "source": []
  },
  {
   "cell_type": "code",
   "execution_count": null,
   "id": "9729eb66",
   "metadata": {},
   "outputs": [],
   "source": []
  },
  {
   "cell_type": "code",
   "execution_count": null,
   "id": "02d8d50b",
   "metadata": {},
   "outputs": [],
   "source": []
  },
  {
   "cell_type": "code",
   "execution_count": null,
   "id": "bf5fda71",
   "metadata": {},
   "outputs": [],
   "source": []
  },
  {
   "cell_type": "code",
   "execution_count": null,
   "id": "649feac3",
   "metadata": {},
   "outputs": [],
   "source": []
  },
  {
   "cell_type": "code",
   "execution_count": null,
   "id": "e7d17f80",
   "metadata": {},
   "outputs": [],
   "source": []
  },
  {
   "cell_type": "code",
   "execution_count": 38,
   "id": "ecdd11e0",
   "metadata": {},
   "outputs": [
    {
     "name": "stdout",
     "output_type": "stream",
     "text": [
      "(257, 257)\n"
     ]
    }
   ],
   "source": [
    "K = tfp.stats.covariance(tf.transpose(f_pred.T)) / 256\n",
    "print(K.shape)\n",
    "K = sess.run(K)\n",
    "eigs = np.real(np.linalg.eigvals(K)).astype(np.float32)\n",
    "eigs = eigs[np.argsort(-eigs)]"
   ]
  },
  {
   "cell_type": "code",
   "execution_count": 39,
   "id": "64253d3b",
   "metadata": {},
   "outputs": [
    {
     "name": "stdout",
     "output_type": "stream",
     "text": [
      "(257, 257)\n"
     ]
    }
   ],
   "source": [
    "K = tfp.stats.covariance(tf.transpose(data.f)) / 256\n",
    "print(K.shape)\n",
    "K = sess.run(K)\n",
    "eigs3 = np.linalg.eigvals(K).astype(np.float32)\n",
    "eigs3 = eigs3[np.argsort(-eigs3)]"
   ]
  },
  {
   "cell_type": "code",
   "execution_count": 40,
   "id": "9762c070",
   "metadata": {},
   "outputs": [
    {
     "data": {
      "text/plain": [
       "Text(0.5, 1.0, 'Top 20 eigenvalues')"
      ]
     },
     "execution_count": 40,
     "metadata": {},
     "output_type": "execute_result"
    },
    {
     "data": {
      "image/png": "[encoded data removed]",
      "text/plain": [
       "<Figure size 432x288 with 1 Axes>"
      ]
     },
     "metadata": {
      "needs_background": "light"
     },
     "output_type": "display_data"
    }
   ],
   "source": [
    "plt.plot(eigs[:20], 'o-', label=\"learned\")\n",
    "# plt.plot(eigs2[:20], 's-', label=\"training\")\n",
    "plt.plot(eigs3[:20], '^-', label=\"referece\")\n",
    "plt.legend()\n",
    "plt.title(\"Top 20 eigenvalues\")"
   ]
  },
  {
   "cell_type": "code",
   "execution_count": 49,
   "id": "30b477e0",
   "metadata": {},
   "outputs": [
    {
     "data": {
      "text/plain": [
       "4"
      ]
     },
     "execution_count": 49,
     "metadata": {},
     "output_type": "execute_result"
    }
   ],
   "source": [
    "len(eigs_10)"
   ]
  },
  {
   "cell_type": "code",
   "execution_count": null,
   "id": "d474c2ae",
   "metadata": {},
   "outputs": [],
   "source": []
  }
 ],
 "metadata": {
  "kernelspec": {
   "display_name": "Python 3 (ipykernel)",
   "language": "python",
   "name": "python3"
  },
  "language_info": {
   "codemirror_mode": {
    "name": "ipython",
    "version": 3
   },
   "file_extension": ".py",
   "mimetype": "text/x-python",
   "name": "python",
   "nbconvert_exporter": "python",
   "pygments_lexer": "ipython3",
   "version": "3.7.0"
  }
 },
 "nbformat": 4,
 "nbformat_minor": 5
}
