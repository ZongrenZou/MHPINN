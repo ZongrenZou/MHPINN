{
 "cells": [
  {
   "cell_type": "code",
   "execution_count": 1,
   "id": "ccc3f1cf",
   "metadata": {},
   "outputs": [],
   "source": [
    "import numpy as np\n",
    "import scipy.io as sio\n",
    "import matplotlib.pyplot as plt\n",
    "import tensorflow as tf\n",
    "import time\n",
    "\n",
    "import models\n",
    "import flows\n",
    "\n",
    "\n",
    "data = sio.loadmat(\"./dataset/data_8.mat\")\n",
    "t = data[\"t\"]\n",
    "u_ref = data[\"sols\"]\n",
    "f = data[\"f\"]\n",
    "k = data[\"k\"]"
   ]
  },
  {
   "cell_type": "code",
   "execution_count": 2,
   "id": "d2569d1a",
   "metadata": {},
   "outputs": [],
   "source": [
    "u_exact = u_ref[:, 0, 0:1]\n",
    "f_exact = f[:, 0:1]\n",
    "k_exact = k[:, 0:1]\n",
    "\n",
    "j = 0\n",
    "t_u_train = t[j:j+1, :]\n",
    "u_train = u_exact[j:j+1, :]\n",
    "t_f_train = t[::16]\n",
    "f_train = f_exact[::16]\n",
    "\n",
    "np.random.seed(666)\n",
    "idx = np.random.choice(f_train.shape[0], f_train.shape[0], replace=False)[:10]\n",
    "idx = np.array([10, 11, 16,  7, 15,   8, 14,  0,  1])\n",
    "f_train = f_train[idx]\n",
    "t_f_train = t_f_train[idx]"
   ]
  },
  {
   "cell_type": "code",
   "execution_count": 3,
   "id": "10803fc1",
   "metadata": {
    "scrolled": true
   },
   "outputs": [
    {
     "name": "stdout",
     "output_type": "stream",
     "text": [
      "0 0.5116518\n",
      "1000 7.5079304e-05\n",
      "2000 6.0009285e-08\n",
      "3000 8.660938e-09\n",
      "4000 1.4954298e-06\n",
      "5000 1.0329407e-09\n",
      "6000 1.7577355e-07\n",
      "7000 4.4916357e-10\n",
      "8000 7.9889226e-08\n",
      "9000 1.5740437e-09\n",
      "10000 1.8385138e-10\n",
      "11000 6.574344e-07\n",
      "12000 1.1689801e-07\n",
      "13000 4.442638e-07\n",
      "14000 6.1116652e-06\n",
      "15000 2.551796e-07\n",
      "16000 1.3954183e-05\n",
      "17000 1.1411555e-06\n",
      "18000 3.572121e-05\n",
      "19000 4.60389e-08\n",
      "20000 7.5703597e-06\n",
      "21000 6.776949e-06\n",
      "22000 3.133252e-06\n",
      "23000 1.3390141e-08\n",
      "24000 1.0545859e-05\n",
      "25000 2.902758e-07\n",
      "26000 3.7166146e-08\n",
      "27000 1.0182384e-05\n",
      "28000 9.523231e-05\n",
      "29000 9.398106e-10\n"
     ]
    }
   ],
   "source": [
    "model = models.NN(eps=0.0)\n",
    "# model.log_k = tf.constant(np.log(k_exact), tf.float32)\n",
    "loss = model.train(t_f_train, f_train, niter=30000)"
   ]
  },
  {
   "cell_type": "code",
   "execution_count": 4,
   "id": "b6a817c3",
   "metadata": {},
   "outputs": [],
   "source": [
    "model.restore()\n",
    "u_pred = model.call(\n",
    "    tf.constant(t, tf.float32)\n",
    ")"
   ]
  },
  {
   "cell_type": "code",
   "execution_count": 9,
   "id": "e5e0248d",
   "metadata": {},
   "outputs": [
    {
     "data": {
      "text/plain": [
       "[<matplotlib.lines.Line2D at 0x12d56ff3a58>]"
      ]
     },
     "execution_count": 9,
     "metadata": {},
     "output_type": "execute_result"
    },
    {
     "data": {
      "image/png": "[encoded data removed]",
      "text/plain": [
       "<Figure size 432x288 with 1 Axes>"
      ]
     },
     "metadata": {
      "needs_background": "light"
     },
     "output_type": "display_data"
    }
   ],
   "source": [
    "plt.plot(t, u_pred)\n",
    "plt.plot(t_f_train, f_train, 'o')\n",
    "plt.plot(t, f_exact)"
   ]
  },
  {
   "cell_type": "code",
   "execution_count": null,
   "id": "a960285e",
   "metadata": {},
   "outputs": [],
   "source": []
  },
  {
   "cell_type": "code",
   "execution_count": null,
   "id": "6155fef7",
   "metadata": {},
   "outputs": [],
   "source": []
  }
 ],
 "metadata": {
  "kernelspec": {
   "display_name": "Python 3 (ipykernel)",
   "language": "python",
   "name": "python3"
  },
  "language_info": {
   "codemirror_mode": {
    "name": "ipython",
    "version": 3
   },
   "file_extension": ".py",
   "mimetype": "text/x-python",
   "name": "python",
   "nbconvert_exporter": "python",
   "pygments_lexer": "ipython3",
   "version": "3.7.0"
  }
 },
 "nbformat": 4,
 "nbformat_minor": 5
}
