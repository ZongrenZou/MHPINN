{
 "cells": [
  {
   "cell_type": "code",
   "execution_count": 1,
   "id": "c2941b5c",
   "metadata": {},
   "outputs": [],
   "source": [
    "import numpy as np\n",
    "import scipy.io as sio\n",
    "import matplotlib.pyplot as plt\n",
    "import tensorflow as tf\n",
    "\n",
    "import models\n",
    "import flows"
   ]
  },
  {
   "cell_type": "code",
   "execution_count": 2,
   "id": "36f43c82",
   "metadata": {},
   "outputs": [],
   "source": [
    "data = sio.loadmat(\"data_1.mat\")\n",
    "x = data[\"x\"]\n",
    "A = data[\"A\"]\n",
    "w = data[\"w\"]\n",
    "k = data[\"k\"]\n",
    "u = data[\"f\"]"
   ]
  },
  {
   "cell_type": "code",
   "execution_count": 3,
   "id": "76753605",
   "metadata": {},
   "outputs": [],
   "source": [
    "N = 1000\n",
    "x_train = x.T\n",
    "u_train = u[:N, :].T"
   ]
  },
  {
   "cell_type": "code",
   "execution_count": 4,
   "id": "1a9c400c",
   "metadata": {
    "scrolled": true
   },
   "outputs": [],
   "source": [
    "mhnn = models.MHNN(num_tasks=N, dim=50, name=\"mhnn\")\n",
    "# loss = mhnn.train(x_train, u_train, niter=50000)\n",
    "mhnn.restore()"
   ]
  },
  {
   "cell_type": "markdown",
   "id": "f8978a1e",
   "metadata": {},
   "source": [
    "#### Performance of MTL"
   ]
  },
  {
   "cell_type": "code",
   "execution_count": 5,
   "id": "1938cfcb",
   "metadata": {},
   "outputs": [],
   "source": [
    "x_test = np.linspace(-1, 1, 100).reshape([-1, 1])\n",
    "u_pred = mhnn.call(\n",
    "    tf.constant(x_test, tf.float32), mhnn.heads,\n",
    ").numpy().T\n",
    "u_test = A[:N] * np.cos(w[:N]*x_test.T) + 2*k[:N] * x_test.T"
   ]
  },
  {
   "cell_type": "code",
   "execution_count": 6,
   "id": "0882420c",
   "metadata": {},
   "outputs": [
    {
     "data": {
      "text/plain": [
       "(1000, 100)"
      ]
     },
     "execution_count": 6,
     "metadata": {},
     "output_type": "execute_result"
    }
   ],
   "source": [
    "u_test.shape"
   ]
  },
  {
   "cell_type": "code",
   "execution_count": 7,
   "id": "b52bdfb7",
   "metadata": {},
   "outputs": [
    {
     "data": {
      "text/plain": [
       "(1000, 100)"
      ]
     },
     "execution_count": 7,
     "metadata": {},
     "output_type": "execute_result"
    }
   ],
   "source": [
    "u_pred.shape"
   ]
  },
  {
   "cell_type": "code",
   "execution_count": 8,
   "id": "07106f81",
   "metadata": {},
   "outputs": [],
   "source": [
    "L2 = np.sqrt(np.sum((u_test-u_pred)**2, axis=-1) / np.sum(u_test**2, axis=-1))"
   ]
  },
  {
   "cell_type": "code",
   "execution_count": 9,
   "id": "bf7e18cd",
   "metadata": {},
   "outputs": [
    {
     "data": {
      "text/plain": [
       "(0.007045923121028705, 0.0024125323159319523)"
      ]
     },
     "execution_count": 9,
     "metadata": {},
     "output_type": "execute_result"
    }
   ],
   "source": [
    "np.mean(L2), np.std(L2)"
   ]
  },
  {
   "cell_type": "code",
   "execution_count": 10,
   "id": "6433e30e",
   "metadata": {},
   "outputs": [
    {
     "data": {
      "text/plain": [
       "0.007045923121028705"
      ]
     },
     "execution_count": 10,
     "metadata": {},
     "output_type": "execute_result"
    }
   ],
   "source": [
    "np.mean(L2)"
   ]
  },
  {
   "cell_type": "code",
   "execution_count": 11,
   "id": "07a3e776",
   "metadata": {},
   "outputs": [
    {
     "data": {
      "text/plain": [
       "0.0004446328709831625"
      ]
     },
     "execution_count": 11,
     "metadata": {},
     "output_type": "execute_result"
    }
   ],
   "source": [
    "np.std(L2)"
   ]
  },
  {
   "cell_type": "code",
   "execution_count": null,
   "id": "5441d332",
   "metadata": {},
   "outputs": [],
   "source": []
  }
 ],
 "metadata": {
  "kernelspec": {
   "display_name": "Python 3 (ipykernel)",
   "language": "python",
   "name": "python3"
  },
  "language_info": {
   "codemirror_mode": {
    "name": "ipython",
    "version": 3
   },
   "file_extension": ".py",
   "mimetype": "text/x-python",
   "name": "python",
   "nbconvert_exporter": "python",
   "pygments_lexer": "ipython3",
   "version": "3.7.0"
  }
 },
 "nbformat": 4,
 "nbformat_minor": 5
}
