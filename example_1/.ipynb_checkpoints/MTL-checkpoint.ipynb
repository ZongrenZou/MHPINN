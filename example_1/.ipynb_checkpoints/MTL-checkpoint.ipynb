{
 "cells": [
  {
   "cell_type": "code",
   "execution_count": 1,
   "id": "c2941b5c",
   "metadata": {},
   "outputs": [],
   "source": [
    "import numpy as np\n",
    "import scipy.io as sio\n",
    "import matplotlib.pyplot as plt\n",
    "import tensorflow as tf\n",
    "\n",
    "import models\n",
    "import flows"
   ]
  },
  {
   "cell_type": "code",
   "execution_count": 2,
   "id": "36f43c82",
   "metadata": {},
   "outputs": [],
   "source": [
    "data = sio.loadmat(\"data_1.mat\")\n",
    "x = data[\"x\"]\n",
    "A = data[\"A\"]\n",
    "w = data[\"w\"]\n",
    "k = data[\"k\"]\n",
    "u = data[\"f\"]"
   ]
  },
  {
   "cell_type": "code",
   "execution_count": 3,
   "id": "76753605",
   "metadata": {},
   "outputs": [],
   "source": [
    "N = 1000\n",
    "x_train = x.T\n",
    "u_train = u[:N, :].T"
   ]
  },
  {
   "cell_type": "code",
   "execution_count": 5,
   "id": "1a9c400c",
   "metadata": {
    "scrolled": true
   },
   "outputs": [
    {
     "name": "stdout",
     "output_type": "stream",
     "text": [
      "0 3.5215156 , time:  0.2828652858734131\n",
      "1000 0.012629602 , time:  0.8332407474517822\n",
      "2000 0.0017524151 , time:  0.8475382328033447\n",
      "3000 0.00048610978 , time:  0.8072187900543213\n",
      "4000 0.00023435356 , time:  0.8019297122955322\n",
      "5000 0.00013921031 , time:  0.8231568336486816\n",
      "6000 0.000116733456 , time:  0.786221981048584\n",
      "7000 6.1561324e-05 , time:  0.8398399353027344\n",
      "8000 4.848928e-05 , time:  0.8031735420227051\n",
      "9000 3.320794e-05 , time:  0.83255934715271\n",
      "10000 2.403397e-05 , time:  0.8407204151153564\n",
      "11000 2.1534555e-05 , time:  0.8220031261444092\n",
      "12000 1.7159173e-05 , time:  0.857537031173706\n",
      "13000 4.7348003e-05 , time:  0.9427804946899414\n",
      "14000 1.7289716e-05 , time:  0.8430314064025879\n",
      "15000 1.0825847e-05 , time:  0.8490805625915527\n",
      "16000 0.00026244752 , time:  0.8422586917877197\n",
      "17000 3.4974433e-05 , time:  0.8419034481048584\n",
      "18000 8.070828e-06 , time:  0.9920015335083008\n",
      "19000 1.0378957e-05 , time:  1.0069224834442139\n",
      "20000 7.1413547e-06 , time:  0.9430031776428223\n",
      "21000 6.7970127e-06 , time:  0.9889874458312988\n",
      "22000 3.3094806e-05 , time:  0.9600014686584473\n",
      "23000 6.159774e-06 , time:  0.9479987621307373\n",
      "24000 3.982232e-05 , time:  0.9030301570892334\n",
      "25000 1.33031535e-05 , time:  0.8920004367828369\n",
      "26000 2.4284971e-05 , time:  0.8829998970031738\n",
      "27000 7.990398e-05 , time:  0.9175846576690674\n",
      "28000 5.2096916e-06 , time:  0.8229577541351318\n",
      "29000 5.387987e-05 , time:  0.8688099384307861\n",
      "30000 1.0151965e-05 , time:  0.9029996395111084\n",
      "31000 0.000121347584 , time:  0.8295619487762451\n",
      "32000 9.789967e-06 , time:  0.820000171661377\n",
      "33000 7.657283e-06 , time:  0.8529994487762451\n",
      "34000 1.0233049e-05 , time:  0.8214812278747559\n",
      "35000 8.693564e-06 , time:  0.8682489395141602\n",
      "36000 9.53865e-06 , time:  0.8829996585845947\n",
      "37000 4.075657e-06 , time:  0.8819997310638428\n",
      "38000 2.0930529e-05 , time:  0.8389809131622314\n",
      "39000 1.01116575e-05 , time:  0.8591654300689697\n",
      "40000 3.80003e-06 , time:  0.8177087306976318\n",
      "41000 7.0794267e-06 , time:  0.8682456016540527\n",
      "42000 9.96006e-06 , time:  0.8669610023498535\n",
      "43000 3.4093823e-06 , time:  0.8358018398284912\n",
      "44000 6.972784e-06 , time:  0.846834659576416\n",
      "45000 9.214692e-06 , time:  0.843604326248169\n",
      "46000 6.864361e-06 , time:  0.8432102203369141\n",
      "47000 2.5436771e-05 , time:  0.8780877590179443\n",
      "48000 0.00010907909 , time:  0.8091845512390137\n",
      "49000 1.2100627e-05 , time:  0.8017385005950928\n"
     ]
    }
   ],
   "source": [
    "mhnn = models.MHNN(num_tasks=N, dim=50, name=\"mhnn\")\n",
    "loss = mhnn.train(x_train, u_train, niter=50000)\n",
    "mhnn.restore()"
   ]
  },
  {
   "cell_type": "markdown",
   "id": "f8978a1e",
   "metadata": {},
   "source": [
    "#### Performance of MTL"
   ]
  },
  {
   "cell_type": "code",
   "execution_count": 6,
   "id": "1938cfcb",
   "metadata": {},
   "outputs": [],
   "source": [
    "x_test = np.linspace(-1, 1, 100).reshape([-1, 1])\n",
    "u_pred = mhnn.call(\n",
    "    tf.constant(x_test, tf.float32), mhnn.heads,\n",
    ").numpy().T\n",
    "u_test = A[:N] * np.cos(w[:N]*x_test.T) + 2*k[:N] * x_test.T"
   ]
  },
  {
   "cell_type": "code",
   "execution_count": 7,
   "id": "0882420c",
   "metadata": {},
   "outputs": [
    {
     "data": {
      "text/plain": [
       "(1000, 100)"
      ]
     },
     "execution_count": 7,
     "metadata": {},
     "output_type": "execute_result"
    }
   ],
   "source": [
    "u_test.shape"
   ]
  },
  {
   "cell_type": "code",
   "execution_count": 8,
   "id": "b52bdfb7",
   "metadata": {},
   "outputs": [
    {
     "data": {
      "text/plain": [
       "(1000, 100)"
      ]
     },
     "execution_count": 8,
     "metadata": {},
     "output_type": "execute_result"
    }
   ],
   "source": [
    "u_pred.shape"
   ]
  },
  {
   "cell_type": "code",
   "execution_count": 9,
   "id": "07106f81",
   "metadata": {},
   "outputs": [],
   "source": [
    "L2 = np.sqrt(np.sum((u_test-u_pred)**2, axis=-1) / np.sum(u_test**2, axis=-1))"
   ]
  },
  {
   "cell_type": "code",
   "execution_count": 10,
   "id": "6433e30e",
   "metadata": {},
   "outputs": [
    {
     "data": {
      "text/plain": [
       "0.0013327598996084663"
      ]
     },
     "execution_count": 10,
     "metadata": {},
     "output_type": "execute_result"
    }
   ],
   "source": [
    "np.mean(L2)"
   ]
  },
  {
   "cell_type": "code",
   "execution_count": 11,
   "id": "07a3e776",
   "metadata": {},
   "outputs": [
    {
     "data": {
      "text/plain": [
       "0.0004446328709831625"
      ]
     },
     "execution_count": 11,
     "metadata": {},
     "output_type": "execute_result"
    }
   ],
   "source": [
    "np.std(L2)"
   ]
  },
  {
   "cell_type": "code",
   "execution_count": null,
   "id": "5441d332",
   "metadata": {},
   "outputs": [],
   "source": []
  }
 ],
 "metadata": {
  "kernelspec": {
   "display_name": "Python 3 (ipykernel)",
   "language": "python",
   "name": "python3"
  },
  "language_info": {
   "codemirror_mode": {
    "name": "ipython",
    "version": 3
   },
   "file_extension": ".py",
   "mimetype": "text/x-python",
   "name": "python",
   "nbconvert_exporter": "python",
   "pygments_lexer": "ipython3",
   "version": "3.7.0"
  }
 },
 "nbformat": 4,
 "nbformat_minor": 5
}
